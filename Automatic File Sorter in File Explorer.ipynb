{
 "cells": [
  {
   "cell_type": "markdown",
   "id": "73528639",
   "metadata": {},
   "source": [
    "## Automatic File Sorter in File Explorer "
   ]
  },
  {
   "cell_type": "code",
   "execution_count": 39,
   "id": "fc13bbea",
   "metadata": {},
   "outputs": [],
   "source": [
    "import os, shutil"
   ]
  },
  {
   "cell_type": "code",
   "execution_count": 42,
   "id": "5fc90894",
   "metadata": {},
   "outputs": [],
   "source": [
    "path  = r\"C:/Users/Dell/Downloads/Projects_Portfolio/Folder for file sorter/\""
   ]
  },
  {
   "cell_type": "code",
   "execution_count": 43,
   "id": "9e6f9355",
   "metadata": {},
   "outputs": [],
   "source": [
    "file_names = os.listdir(path)"
   ]
  },
  {
   "cell_type": "code",
   "execution_count": 44,
   "id": "1ab14494",
   "metadata": {},
   "outputs": [],
   "source": [
    "folder_name = ['excel_files','image_files','text_files','pdf_files']\n",
    "\n",
    "for loop in range (0,4):\n",
    "    if not os.path.exists(path + folder_name[loop]):\n",
    "        print(path + folder_name[loop])\n",
    "        os.makedirs((path + folder_name[loop]))\n",
    "        \n",
    "for file in file_names:\n",
    "    if \".docx\" in file and not os.path.exists(path + \"text_files/\" + file):\n",
    "        shutil.move(path + file, path + \"text_files/\" + file)\n",
    "    elif \".png\" in file and not os.path.exists(path + \"image_files/\" + file):\n",
    "        shutil.move(path + file, path + \"image_files/\" + file)   \n",
    "    elif \".xlsx\" in file and not os.path.exists(path + \"excel_files/\" + file):\n",
    "        shutil.move(path + file, path + \"excel_files/\" + file)\n",
    "    elif \".pdf\" in file and not os.path.exists(path + \"pdf_files/\" + file):\n",
    "        shutil.move(path + file, path + \"pdf_files/\" + file) "
   ]
  },
  {
   "cell_type": "code",
   "execution_count": 38,
   "id": "a4c9999c",
   "metadata": {},
   "outputs": [],
   "source": [
    " "
   ]
  },
  {
   "cell_type": "code",
   "execution_count": null,
   "id": "08b38fc2",
   "metadata": {},
   "outputs": [],
   "source": []
  },
  {
   "cell_type": "code",
   "execution_count": null,
   "id": "9f658434",
   "metadata": {},
   "outputs": [],
   "source": []
  },
  {
   "cell_type": "code",
   "execution_count": null,
   "id": "fb049f11",
   "metadata": {},
   "outputs": [],
   "source": []
  },
  {
   "cell_type": "code",
   "execution_count": null,
   "id": "cf032a96",
   "metadata": {},
   "outputs": [],
   "source": []
  },
  {
   "cell_type": "code",
   "execution_count": null,
   "id": "bb1ec606",
   "metadata": {},
   "outputs": [],
   "source": []
  },
  {
   "cell_type": "code",
   "execution_count": null,
   "id": "3a758641",
   "metadata": {},
   "outputs": [],
   "source": []
  },
  {
   "cell_type": "code",
   "execution_count": null,
   "id": "3de6d08b",
   "metadata": {},
   "outputs": [],
   "source": []
  },
  {
   "cell_type": "code",
   "execution_count": null,
   "id": "a74c3330",
   "metadata": {},
   "outputs": [],
   "source": []
  },
  {
   "cell_type": "code",
   "execution_count": null,
   "id": "e2440130",
   "metadata": {},
   "outputs": [],
   "source": []
  }
 ],
 "metadata": {
  "kernelspec": {
   "display_name": "Python 3 (ipykernel)",
   "language": "python",
   "name": "python3"
  },
  "language_info": {
   "codemirror_mode": {
    "name": "ipython",
    "version": 3
   },
   "file_extension": ".py",
   "mimetype": "text/x-python",
   "name": "python",
   "nbconvert_exporter": "python",
   "pygments_lexer": "ipython3",
   "version": "3.9.13"
  }
 },
 "nbformat": 4,
 "nbformat_minor": 5
}
